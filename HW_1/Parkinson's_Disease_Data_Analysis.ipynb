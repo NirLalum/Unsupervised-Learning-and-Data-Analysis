{
 "cells": [
  {
   "cell_type": "markdown",
   "source": [
    "## <img src=\"https://img.icons8.com/color/48/000000/code.png\" style=\"height:50px;display:inline\"> Python - Parkinson's Disease Classification Data Analysis\n",
    "\n",
    "In this exercise, we are going to do data analysis with Python and Pandas. As this is the first \"real\" exercise, we will add guidance for some of the tasks.\n",
    "\n",
    "1. Warmup - Generate 100 samples from $\\mathcal{N}(0,1)$ (`np.random.randn`). Compute a 95% CI for the CDF. Plot the true CDF, the CDF estimation and the CI in a single plot. To estimate $\\hat{F}_n$ use a histogram (`np.histogram`). Repeat this $K=1000$ times and compute the percentage of time that the interval contained the CDF (print the value) . In addition, plot in another single figure the *true* CDF, and the best and worst experiments (use $\\max_x|F(x) - \\hat{F}_n(x)|$ as quality measure).\n",
    "    * To compare np arrays element-wise use `np.less_equal(x1, x2 + eps), np.greater_equal(x1, x2 - eps)`, use `.all()` to verify if all the comaprisons were `True`.\n",
    "    \n",
    "We are now going to perform some real data analysis on the \"Parkinson's Disease Classification Data Set\": the data used in this study were gathered from 188 patients with PD (107 men and 81 women) with ages ranging from 33 to 87 at the Department of Neurology in CerrahpaÅŸa Faculty of Medicine, Istanbul University. The control group consists of 64 healthy individuals (23 men and 41 women) with ages varying between 41 and 82. During the data collection process, the microphone is set to 44.1 KHz and following the examination, the sustained phonation of the vowel /a/ was collected from each subject with three repetitions. \n",
    "\n",
    "The features are various speech signal processing algorithms including Time Frequency Features, Mel Frequency Cepstral Coefficients (MFCCs), Wavelet Transform based Features, Vocal Fold Features and TWQT features have been applied to the speech recordings of Parkinson's Disease (PD) patients to extract clinically useful information for PD assessment.\n",
    "\n",
    "2. Load the data with pandas, drop the 'id' column, take a sample ($k=10$, `dataframe.sample(k)`) and view it.\n",
    "    * The filename is `pd_speech_features.csv`.\n",
    "3. Compute the empirical correlation between all pairs of features. Show the results both in a heatmap.\n",
    "    * Use pandas `.corr()` to calculate the correaltion, and `plt.imshow()` to view the heatmap (2 heatmaps, one for the correlation and one for the absolute correlation). Add a color bar using `plt.colorbar()`\n",
    "4. Print the top-20 most correlated features. Follow this steps:\n",
    "    * Take the lower triangle of the correlation matrix (as it is symmetrical and we don't care about $Corr(X_i,X_i)$). Use `np.tril()`\n",
    "    * Consider only positive correlation (because negative correlation has a different, useful meaning). You can do that by `X = X[X >0]`.\n",
    "    * From here, these are recommended steps, feel free to achieve the goal in a different way.\n",
    "        * Assignment to a pandas DataFrame: `X.loc[:,:] = np.(...)`\n",
    "        * Unstacking the DataFrame (creates a new pivot, read the doc): `df.unstack()`\n",
    "        * Sorting: `df.sort()`\n",
    "\n",
    "5. What is the meaning when 2 different features are highly correlated? From a machine learning perspective, can a classifier learn new insights from highly-correlated features? In your answer, address the process of \"feature selection\" in ML (usually performed as a pre-processing step).\n",
    "\n",
    "6. Compute the **in-class** correlation between features. Plot a heat map for each class. Address the differences between the heat maps.\n",
    "\n",
    "7. Consider the features 'numPulses' and 'app_entropy_log_5_coef'. We wish to calculate a 95% confidence interval for the correlation between these features. We will use *Bootstrapping* and the *Chebyshev inequality* (as in Tutorial 2).\n",
    "    * Implement the bootstrap algorithm to calculate the standard deviation ($\\sigma$) of the correlation.\n",
    "        * You can use the algorithm from the tutorial, but you have to modify it to support 2 arrays.\n",
    "        * The algorithm will output the empirical correlation of the two input features, and a bootstrap estimation for the std ($\\sigma$). Use `K=300` bootstrap samples and `m=100` experiments.\n",
    "        * Tips:\n",
    "            * To get values for two columns: `data[['numPulses', 'app_entropy_log_5_coef']]`\n",
    "            * To calculate correlation, check out `numpy.corrcoef`.\n",
    "    * Use $\\sigma$ to calculate a 95% CI using Chebyshev inequality.\n",
    "        * Remember to to normalize by the size of the data ($N$).\n",
    "    The final print should look something like that: `95% confidence interval for the correlation: *** ± ***`"
   ],
   "metadata": {}
  },
  {
   "cell_type": "code",
   "execution_count": 12,
   "source": [
    "import numpy as np\n",
    "import matplotlib.pyplot as plt\n",
    "import pandas as pd\n",
    "import scipy\n",
    "from scipy.stats import norm\n",
    "\n",
    "%matplotlib inline\n",
    "\n",
    "\n",
    "plt.rcParams['figure.figsize'] = (8.0, 8.0)\n",
    "plt.rcParams['axes.grid'] = True\n",
    "plt.rcParams['font.size'] = 10\n"
   ],
   "outputs": [],
   "metadata": {}
  },
  {
   "cell_type": "markdown",
   "source": [
    "## Q1"
   ],
   "metadata": {}
  },
  {
   "cell_type": "code",
   "execution_count": 54,
   "source": [
    "N = 100\n",
    "x_sample = np.random.randn(N)\n",
    "x = np.linspace(-3, 3, 1000)\n",
    "mu = 0\n",
    "sigma = 1\n",
    "\n",
    "true_cdf = norm.cdf(x, mu, sigma)\n",
    "H, x_est = np.histogram(x_sample, bins = 100)\n",
    "\n",
    "F_n = (1/N)*(np.cumsum(H)) # equals to 1/N*(I{Xi<=x}) which is the estimator of F(x)\n",
    "\n",
    "fig = plt.figure()\n",
    "ax = fig.add_subplot(1,1,1)\n",
    "ax.plot(x, true_cdf, label='true cdf')\n",
    "ax.plot(x_est[1:], F_n, label='estimated cdf')\n",
    "ax.legend()\n",
    "\n",
    "# now i need to use DKW for finding a CI"
   ],
   "outputs": [
    {
     "output_type": "execute_result",
     "data": {
      "text/plain": [
       "<matplotlib.legend.Legend at 0x7fb581319ee0>"
      ]
     },
     "metadata": {},
     "execution_count": 54
    },
    {
     "output_type": "display_data",
     "data": {
      "image/png": "[encoded data removed]",
      "text/plain": [
       "<Figure size 576x576 with 1 Axes>"
      ]
     },
     "metadata": {
      "needs_background": "light"
     }
    }
   ],
   "metadata": {}
  },
  {
   "cell_type": "code",
   "execution_count": 52,
   "source": [
    "H"
   ],
   "outputs": [
    {
     "output_type": "execute_result",
     "data": {
      "text/plain": [
       "array([1, 0, 0, 0, 0, 0, 0, 1, 0, 0, 1, 2, 0, 0, 0, 0, 0, 0, 0, 0, 0, 1,\n",
       "       1, 0, 1, 0, 1, 2, 0, 1, 0, 0, 2, 0, 1, 1, 2, 2, 0, 1, 2, 1, 3, 1,\n",
       "       4, 1, 2, 4, 4, 5, 1, 5, 4, 2, 3, 1, 0, 2, 3, 1, 1, 1, 1, 1, 2, 2,\n",
       "       5, 1, 1, 0, 1, 2, 1, 1, 0, 1, 0, 4, 0, 0, 1, 0, 0, 0, 1, 0, 0, 0,\n",
       "       0, 1, 0, 0, 0, 0, 0, 0, 0, 1, 0, 1])"
      ]
     },
     "metadata": {},
     "execution_count": 52
    }
   ],
   "metadata": {}
  },
  {
   "cell_type": "code",
   "execution_count": 53,
   "source": [
    "np.cumsum(H)*1/100"
   ],
   "outputs": [
    {
     "output_type": "execute_result",
     "data": {
      "text/plain": [
       "array([0.01, 0.01, 0.01, 0.01, 0.01, 0.01, 0.01, 0.02, 0.02, 0.02, 0.03,\n",
       "       0.05, 0.05, 0.05, 0.05, 0.05, 0.05, 0.05, 0.05, 0.05, 0.05, 0.06,\n",
       "       0.07, 0.07, 0.08, 0.08, 0.09, 0.11, 0.11, 0.12, 0.12, 0.12, 0.14,\n",
       "       0.14, 0.15, 0.16, 0.18, 0.2 , 0.2 , 0.21, 0.23, 0.24, 0.27, 0.28,\n",
       "       0.32, 0.33, 0.35, 0.39, 0.43, 0.48, 0.49, 0.54, 0.58, 0.6 , 0.63,\n",
       "       0.64, 0.64, 0.66, 0.69, 0.7 , 0.71, 0.72, 0.73, 0.74, 0.76, 0.78,\n",
       "       0.83, 0.84, 0.85, 0.85, 0.86, 0.88, 0.89, 0.9 , 0.9 , 0.91, 0.91,\n",
       "       0.95, 0.95, 0.95, 0.96, 0.96, 0.96, 0.96, 0.97, 0.97, 0.97, 0.97,\n",
       "       0.97, 0.98, 0.98, 0.98, 0.98, 0.98, 0.98, 0.98, 0.98, 0.99, 0.99,\n",
       "       1.  ])"
      ]
     },
     "metadata": {},
     "execution_count": 53
    }
   ],
   "metadata": {}
  },
  {
   "cell_type": "code",
   "execution_count": null,
   "source": [],
   "outputs": [],
   "metadata": {}
  }
 ],
 "metadata": {
  "orig_nbformat": 4,
  "language_info": {
   "name": "python",
   "version": "3.8.10",
   "mimetype": "text/x-python",
   "codemirror_mode": {
    "name": "ipython",
    "version": 3
   },
   "pygments_lexer": "ipython3",
   "nbconvert_exporter": "python",
   "file_extension": ".py"
  },
  "kernelspec": {
   "name": "python3",
   "display_name": "Python 3.8.10 64-bit"
  },
  "interpreter": {
   "hash": "916dbcbb3f70747c44a77c7bcd40155683ae19c65e1c03b4aa3499c5328201f1"
  }
 },
 "nbformat": 4,
 "nbformat_minor": 2
}