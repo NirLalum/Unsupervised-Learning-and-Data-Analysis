{
 "cells": [
  {
   "cell_type": "markdown",
   "source": [
    "# <img src=\"https://img.icons8.com/dusk/64/000000/artificial-intelligence.png\" style=\"height:50px;display:inline\"> EE 046202 - Technion - Unsupervised Learning & Data Analysis\n",
    "---\n",
    "\n",
    "## Computer Assignment 1 - Statistics & Dimensionality Reduction\n",
    "\n",
    "----\n",
    "### <img src=\"https://img.icons8.com/bubbles/50/000000/checklist.png\" style=\"height:50px;display:inline\"> Agenda\n",
    "---\n",
    "* Statistics\n",
    "    * Descriptive Statistics\n",
    "    * Point Estimation\n",
    "    * Confidence Intervals\n",
    "    * Hypothesis Testing\n",
    "* Dimensionality Reduction\n",
    "    * Robustness to Noise & Outliers\n",
    "    * Comparing Different Methods\n",
    "\n",
    "#### Use as many cells as you need\n",
    "#### אפשר גם לכתוב בעברית, אבל עדיף באנגלית\n",
    "\n",
    "* Code Tasks are denoted with: <img src=\"https://img.icons8.com/color/48/000000/code.png\">\n",
    "* Questions (which you need to answer in a Markdown cell) are denoted with: <img src=\"https://img.icons8.com/bubbles/48/000000/ask-question.png\">"
   ],
   "metadata": {}
  },
  {
   "cell_type": "markdown",
   "source": [
    "### <img src=\"https://img.icons8.com/bubbles/50/000000/information.png\" style=\"height:50px;display:inline\"> Students Information\n",
    "---\n",
    "* Fill in\n",
    "\n",
    "|Name     |Campus Email| ID  |\n",
    "|---------|--------------------------------|----------|\n",
    "|Student 1| student_1@campus.technion.ac.il| 123456789|\n",
    "|Student 2| student_2@campus.technion.ac.il| 987654321|\n"
   ],
   "metadata": {}
  },
  {
   "cell_type": "markdown",
   "source": [
    "### <img src=\"https://img.icons8.com/bubbles/50/000000/upload-to-cloud.png\" style=\"height:50px;display:inline\"> Submission Guidelines\n",
    "---\n",
    "* Maximal garde: **100**.\n",
    "* Submission only in **pairs**. \n",
    "    * Please make sure you have registered your group in Moodle (there is a group creation component on the Moodle where you need to create your group and assign members).\n",
    "* **No handwritten submissions.** You can choose whether to answer in a Markdown cell in this notebook or attach a PDF with your answers.\n",
    "* <a style='color:red'> SAVE THE NOTEBOOKS WITH THE OUTPUT, CODE CELLS THAT WERE NOT RUN WILL NOT GET ANY POINTS! </a>\n",
    "* What you have to submit:\n",
    "    * If you have answered the questions in the notebook, you should submit this file only, with the name: `ee046202_wet1_id1_id2.ipynb`.\n",
    "    * If you answered the questionss in a different file you should submit a `.zip` file with the name `ee046202_wet1_id1_id2.zip` with content:\n",
    "        * `ee046202_wet1_id1_id2.ipynb` - the code tasks\n",
    "        * `ee046202_wet1_id1_id2.pdf` - answers to questions.\n",
    "    * No other file-types (`.py`, `.docx`...) will be accepted.\n",
    "* Submission on the course website (Moodle).\n",
    "* **Latex in Colab** - in some cases, Latex equations may no be rendered. To avoid this, make sure to not use *bullets* in your answers (\"* some text here with Latex equations\" -> \"some text here with Latex equations\")."
   ],
   "metadata": {}
  },
  {
   "cell_type": "markdown",
   "source": [
    "### <img src=\"https://img.icons8.com/dusk/64/000000/online.png\" style=\"height:50px;display:inline\"> Working Online and Locally\n",
    "---\n",
    "* You can choose your working environment:\n",
    "    1. `Jupyter Notebook`, **locally** with <a href=\"https://www.anaconda.com/distribution/\">Anaconda</a> or **online** on <a href=\"https://colab.research.google.com/\">Google Colab</a>\n",
    "        * Colab also supports running code on GPU, so if you don't have one, Colab is the way to go. To enable GPU on Colab, in the menu: `Runtime`$\\rightarrow$ `Change Runtime Type` $\\rightarrow$`GPU`.\n",
    "    2. Python IDE such as <a href=\"https://www.jetbrains.com/pycharm/\">PyCharm</a> or <a href=\"https://code.visualstudio.com/\">Visual Studio Code</a>.\n",
    "        * Both allow editing and running Jupyter Notebooks.\n",
    "\n",
    "* Please refer to `Setting Up the Working Environment.pdf` on the Moodle or our GitHub (https://github.com/taldatech/ee046202-unsupervised-learning-data-analysis) to help you get everything installed.\n",
    "* If you need any technical assistance, please go to our Piazza forum (`wet1` folder) and describe your problem (preferably with images)."
   ],
   "metadata": {}
  },
  {
   "cell_type": "markdown",
   "source": [
    "### <img src=\"https://img.icons8.com/cute-clipart/64/000000/info.png\" style=\"height:50px;display:inline\"> Tip\n",
    "---\n",
    "If you find it more convenient, you can copy the section to a new cell, and answer the question or rite the code just right below it. For example:\n",
    "\n",
    "#### Question 0\n",
    "1. What is the best course in the Technion?\n",
    "2. Why does no one pick Bulbasaur as first pokemon?\n",
    "3. Why is there no superhero named Catman?\n",
    "\n",
    "#### Answers - Q0\n",
    "\n",
    "#### Q0 - Section 1\n",
    "* Q: What is the best course in the Technion?"
   ],
   "metadata": {}
  },
  {
   "cell_type": "code",
   "execution_count": 1,
   "source": [
    "print(\"ANAM!\")"
   ],
   "outputs": [
    {
     "output_type": "stream",
     "name": "stdout",
     "text": [
      "ANAM!\n"
     ]
    }
   ],
   "metadata": {}
  },
  {
   "cell_type": "markdown",
   "source": [
    "#### Q0 - Section 2\n",
    "* Q: Why does no one pick Bulbasaur as first pokemon?\n",
    "\n",
    "It is really a riddle....\n",
    "\n",
    "#### Q0 - Section 3\n",
    "* Q: Why is there no superhero named Catman?\n",
    "\n",
    "I got nothing."
   ],
   "metadata": {}
  },
  {
   "cell_type": "markdown",
   "source": [
    "### <img src=\"https://img.icons8.com/clouds/96/000000/keyboard.png\" style=\"height:50px;display:inline\"> Keyboard Shortcuts\n",
    "---\n",
    "* Run current cell: **Ctrl + Enter**\n",
    "* Run current cell and move to the next: **Shift + Enter**\n",
    "* Show lines in a code cell: **Esc + L**\n",
    "* View function documentation: **Shift + Tab** inside the parenthesis or `help(name_of_module)`\n",
    "* New cell below: **Esc + B**\n",
    "* Delete cell: **Esc + D, D** (two D's)"
   ],
   "metadata": {}
  },
  {
   "cell_type": "markdown",
   "source": [
    "### <img src=\"https://img.icons8.com/color/96/000000/us-capitol.png\" style=\"height:50px;display:inline\"> Part 1 - Statistics -Prologue - US 2016 Elections\n",
    "---\n",
    "In this exercise we are going to analyze the 2016 presidential elections in the United States of America.\n",
    "The data is located in `./election-context-2018.csv`.\n",
    "\n",
    "The complete details of the fields can be found here: https://github.com/MEDSL/2018-elections-unoffical/blob/master/election-context-2018.md\n",
    "\n",
    "**Fields**:\n",
    "* **state** - state name\n",
    "* **county** - county name\n",
    "* **trump16** - presidential candidate (Trump) vote totals\n",
    "* **clinton16** - presidential candidate (Clinton) vote totals\n",
    "* **otherpres16** - presidential candidate (Other) vote totals\n",
    "* **total_population** - total population\n",
    "* **cvap** - citizen voting-age population (or: how many citizens were allowed to vote)\n",
    "* **white_pct** -  non-Hispanic whites as a percentage of *total population*\n",
    "* **black_pct** - non-Hispanic blacks as a percentage of *total population*\n",
    "* **hispanic_pct** - Hispanics or Latinos as a percentage of *total population*\n",
    "* **nonwhite_pct** - non-whites as a percentage of *total population*\n",
    "* **foreignborn_pct** - foreign-born population as a percentage of *total population*\n",
    "* **female_pct** - females as a percentage of *total population*\n",
    "* **median_hh_inc** - *median* household income in the past 12 months\n",
    "* **clf_unemploy_pct** - unemployed population in labor force as a percentage of total population in civilian labor force\n",
    "* **lesshs_pct** - population with an education of less than a regular high school diploma as a percentage of total\n",
    "* **lesscollege_pct** - population with an education of less than a bachelor's degree as a percentage of total population\n",
    "\n",
    "Let's have a look at the data"
   ],
   "metadata": {}
  },
  {
   "cell_type": "code",
   "execution_count": 54,
   "source": [
    "# imports for the exrcise - part 1\n",
    "# you can add more if you wish (but it is not really needed)\n",
    "import numpy as np\n",
    "import pandas as pd\n",
    "import matplotlib.pyplot as plt\n",
    "import scipy\n",
    "import seaborn as sns"
   ],
   "outputs": [],
   "metadata": {}
  },
  {
   "cell_type": "code",
   "execution_count": 56,
   "source": [
    "df = pd.read_csv('./election-context-2018.csv')\n",
    "df = df[['state', 'county','trump16', 'clinton16', 'otherpres16','total_population',\n",
    "         'cvap', 'white_pct', 'black_pct', 'hispanic_pct', 'nonwhite_pct', 'foreignborn_pct',\n",
    "         'female_pct', 'median_hh_inc', 'clf_unemploy_pct', 'lesshs_pct', 'lesscollege_pct']]\n",
    "df"
   ],
   "outputs": [
    {
     "output_type": "execute_result",
     "data": {
      "text/html": [
       "<div>\n",
       "<style scoped>\n",
       "    .dataframe tbody tr th:only-of-type {\n",
       "        vertical-align: middle;\n",
       "    }\n",
       "\n",
       "    .dataframe tbody tr th {\n",
       "        vertical-align: top;\n",
       "    }\n",
       "\n",
       "    .dataframe thead th {\n",
       "        text-align: right;\n",
       "    }\n",
       "</style>\n",
       "<table border=\"1\" class=\"dataframe\">\n",
       "  <thead>\n",
       "    <tr style=\"text-align: right;\">\n",
       "      <th></th>\n",
       "      <th>state</th>\n",
       "      <th>county</th>\n",
       "      <th>trump16</th>\n",
       "      <th>clinton16</th>\n",
       "      <th>otherpres16</th>\n",
       "      <th>total_population</th>\n",
       "      <th>cvap</th>\n",
       "      <th>white_pct</th>\n",
       "      <th>black_pct</th>\n",
       "      <th>hispanic_pct</th>\n",
       "      <th>nonwhite_pct</th>\n",
       "      <th>foreignborn_pct</th>\n",
       "      <th>female_pct</th>\n",
       "      <th>median_hh_inc</th>\n",
       "      <th>clf_unemploy_pct</th>\n",
       "      <th>lesshs_pct</th>\n",
       "      <th>lesscollege_pct</th>\n",
       "    </tr>\n",
       "  </thead>\n",
       "  <tbody>\n",
       "    <tr>\n",
       "      <th>0</th>\n",
       "      <td>Alabama</td>\n",
       "      <td>Autauga</td>\n",
       "      <td>18172</td>\n",
       "      <td>5936</td>\n",
       "      <td>865</td>\n",
       "      <td>55049.0</td>\n",
       "      <td>40690.0</td>\n",
       "      <td>75.683482</td>\n",
       "      <td>18.370906</td>\n",
       "      <td>2.572254</td>\n",
       "      <td>24.316518</td>\n",
       "      <td>1.838362</td>\n",
       "      <td>51.176225</td>\n",
       "      <td>53099.0</td>\n",
       "      <td>5.591657</td>\n",
       "      <td>12.417046</td>\n",
       "      <td>75.407229</td>\n",
       "    </tr>\n",
       "    <tr>\n",
       "      <th>1</th>\n",
       "      <td>Alabama</td>\n",
       "      <td>Baldwin</td>\n",
       "      <td>72883</td>\n",
       "      <td>18458</td>\n",
       "      <td>3874</td>\n",
       "      <td>199510.0</td>\n",
       "      <td>151770.0</td>\n",
       "      <td>83.178788</td>\n",
       "      <td>9.225603</td>\n",
       "      <td>4.366698</td>\n",
       "      <td>16.821212</td>\n",
       "      <td>3.269510</td>\n",
       "      <td>51.194928</td>\n",
       "      <td>51365.0</td>\n",
       "      <td>6.286843</td>\n",
       "      <td>9.972418</td>\n",
       "      <td>70.452889</td>\n",
       "    </tr>\n",
       "    <tr>\n",
       "      <th>2</th>\n",
       "      <td>Alabama</td>\n",
       "      <td>Barbour</td>\n",
       "      <td>5454</td>\n",
       "      <td>4871</td>\n",
       "      <td>144</td>\n",
       "      <td>26614.0</td>\n",
       "      <td>20375.0</td>\n",
       "      <td>45.885624</td>\n",
       "      <td>47.888329</td>\n",
       "      <td>4.309762</td>\n",
       "      <td>54.114376</td>\n",
       "      <td>2.859397</td>\n",
       "      <td>46.498084</td>\n",
       "      <td>33956.0</td>\n",
       "      <td>12.824738</td>\n",
       "      <td>26.235928</td>\n",
       "      <td>87.132213</td>\n",
       "    </tr>\n",
       "    <tr>\n",
       "      <th>3</th>\n",
       "      <td>Alabama</td>\n",
       "      <td>Bibb</td>\n",
       "      <td>6738</td>\n",
       "      <td>1874</td>\n",
       "      <td>207</td>\n",
       "      <td>22572.0</td>\n",
       "      <td>17590.0</td>\n",
       "      <td>74.765196</td>\n",
       "      <td>21.212121</td>\n",
       "      <td>2.223994</td>\n",
       "      <td>25.234804</td>\n",
       "      <td>1.351232</td>\n",
       "      <td>46.464646</td>\n",
       "      <td>39776.0</td>\n",
       "      <td>7.146827</td>\n",
       "      <td>19.301587</td>\n",
       "      <td>88.000000</td>\n",
       "    </tr>\n",
       "    <tr>\n",
       "      <th>4</th>\n",
       "      <td>Alabama</td>\n",
       "      <td>Blount</td>\n",
       "      <td>22859</td>\n",
       "      <td>2156</td>\n",
       "      <td>573</td>\n",
       "      <td>57704.0</td>\n",
       "      <td>42430.0</td>\n",
       "      <td>87.657701</td>\n",
       "      <td>1.557951</td>\n",
       "      <td>8.727298</td>\n",
       "      <td>12.342299</td>\n",
       "      <td>4.271801</td>\n",
       "      <td>50.485235</td>\n",
       "      <td>46212.0</td>\n",
       "      <td>5.953833</td>\n",
       "      <td>19.968585</td>\n",
       "      <td>86.950243</td>\n",
       "    </tr>\n",
       "    <tr>\n",
       "      <th>...</th>\n",
       "      <td>...</td>\n",
       "      <td>...</td>\n",
       "      <td>...</td>\n",
       "      <td>...</td>\n",
       "      <td>...</td>\n",
       "      <td>...</td>\n",
       "      <td>...</td>\n",
       "      <td>...</td>\n",
       "      <td>...</td>\n",
       "      <td>...</td>\n",
       "      <td>...</td>\n",
       "      <td>...</td>\n",
       "      <td>...</td>\n",
       "      <td>...</td>\n",
       "      <td>...</td>\n",
       "      <td>...</td>\n",
       "      <td>...</td>\n",
       "    </tr>\n",
       "    <tr>\n",
       "      <th>3109</th>\n",
       "      <td>Wyoming</td>\n",
       "      <td>Sweetwater</td>\n",
       "      <td>12154</td>\n",
       "      <td>3231</td>\n",
       "      <td>1745</td>\n",
       "      <td>44812.0</td>\n",
       "      <td>30565.0</td>\n",
       "      <td>79.815674</td>\n",
       "      <td>0.865840</td>\n",
       "      <td>15.859591</td>\n",
       "      <td>20.184326</td>\n",
       "      <td>5.509685</td>\n",
       "      <td>47.824244</td>\n",
       "      <td>68233.0</td>\n",
       "      <td>5.072255</td>\n",
       "      <td>9.314606</td>\n",
       "      <td>78.628507</td>\n",
       "    </tr>\n",
       "    <tr>\n",
       "      <th>3110</th>\n",
       "      <td>Wyoming</td>\n",
       "      <td>Teton</td>\n",
       "      <td>3921</td>\n",
       "      <td>7314</td>\n",
       "      <td>1392</td>\n",
       "      <td>22623.0</td>\n",
       "      <td>16335.0</td>\n",
       "      <td>81.200548</td>\n",
       "      <td>0.614419</td>\n",
       "      <td>15.174822</td>\n",
       "      <td>18.799452</td>\n",
       "      <td>11.475048</td>\n",
       "      <td>48.097069</td>\n",
       "      <td>75594.0</td>\n",
       "      <td>2.123447</td>\n",
       "      <td>4.633570</td>\n",
       "      <td>46.211584</td>\n",
       "    </tr>\n",
       "    <tr>\n",
       "      <th>3111</th>\n",
       "      <td>Wyoming</td>\n",
       "      <td>Uinta</td>\n",
       "      <td>6154</td>\n",
       "      <td>1202</td>\n",
       "      <td>1114</td>\n",
       "      <td>20893.0</td>\n",
       "      <td>14355.0</td>\n",
       "      <td>87.718375</td>\n",
       "      <td>0.186665</td>\n",
       "      <td>8.959939</td>\n",
       "      <td>12.281625</td>\n",
       "      <td>3.986981</td>\n",
       "      <td>49.327526</td>\n",
       "      <td>53323.0</td>\n",
       "      <td>6.390755</td>\n",
       "      <td>10.361224</td>\n",
       "      <td>81.793082</td>\n",
       "    </tr>\n",
       "    <tr>\n",
       "      <th>3112</th>\n",
       "      <td>Wyoming</td>\n",
       "      <td>Washakie</td>\n",
       "      <td>2911</td>\n",
       "      <td>532</td>\n",
       "      <td>371</td>\n",
       "      <td>8351.0</td>\n",
       "      <td>6135.0</td>\n",
       "      <td>82.397318</td>\n",
       "      <td>0.790325</td>\n",
       "      <td>13.962400</td>\n",
       "      <td>17.602682</td>\n",
       "      <td>3.783978</td>\n",
       "      <td>51.359119</td>\n",
       "      <td>46212.0</td>\n",
       "      <td>7.441860</td>\n",
       "      <td>12.577108</td>\n",
       "      <td>78.923920</td>\n",
       "    </tr>\n",
       "    <tr>\n",
       "      <th>3113</th>\n",
       "      <td>Wyoming</td>\n",
       "      <td>Weston</td>\n",
       "      <td>3033</td>\n",
       "      <td>299</td>\n",
       "      <td>194</td>\n",
       "      <td>7175.0</td>\n",
       "      <td>5565.0</td>\n",
       "      <td>92.222997</td>\n",
       "      <td>0.250871</td>\n",
       "      <td>1.003484</td>\n",
       "      <td>7.777003</td>\n",
       "      <td>4.083624</td>\n",
       "      <td>47.958188</td>\n",
       "      <td>55640.0</td>\n",
       "      <td>3.610949</td>\n",
       "      <td>8.592392</td>\n",
       "      <td>81.193281</td>\n",
       "    </tr>\n",
       "  </tbody>\n",
       "</table>\n",
       "<p>3114 rows × 17 columns</p>\n",
       "</div>"
      ],
      "text/plain": [
       "        state      county  trump16  clinton16  otherpres16  total_population  \\\n",
       "0     Alabama     Autauga    18172       5936          865           55049.0   \n",
       "1     Alabama     Baldwin    72883      18458         3874          199510.0   \n",
       "2     Alabama     Barbour     5454       4871          144           26614.0   \n",
       "3     Alabama        Bibb     6738       1874          207           22572.0   \n",
       "4     Alabama      Blount    22859       2156          573           57704.0   \n",
       "...       ...         ...      ...        ...          ...               ...   \n",
       "3109  Wyoming  Sweetwater    12154       3231         1745           44812.0   \n",
       "3110  Wyoming       Teton     3921       7314         1392           22623.0   \n",
       "3111  Wyoming       Uinta     6154       1202         1114           20893.0   \n",
       "3112  Wyoming    Washakie     2911        532          371            8351.0   \n",
       "3113  Wyoming      Weston     3033        299          194            7175.0   \n",
       "\n",
       "          cvap  white_pct  black_pct  hispanic_pct  nonwhite_pct  \\\n",
       "0      40690.0  75.683482  18.370906      2.572254     24.316518   \n",
       "1     151770.0  83.178788   9.225603      4.366698     16.821212   \n",
       "2      20375.0  45.885624  47.888329      4.309762     54.114376   \n",
       "3      17590.0  74.765196  21.212121      2.223994     25.234804   \n",
       "4      42430.0  87.657701   1.557951      8.727298     12.342299   \n",
       "...        ...        ...        ...           ...           ...   \n",
       "3109   30565.0  79.815674   0.865840     15.859591     20.184326   \n",
       "3110   16335.0  81.200548   0.614419     15.174822     18.799452   \n",
       "3111   14355.0  87.718375   0.186665      8.959939     12.281625   \n",
       "3112    6135.0  82.397318   0.790325     13.962400     17.602682   \n",
       "3113    5565.0  92.222997   0.250871      1.003484      7.777003   \n",
       "\n",
       "      foreignborn_pct  female_pct  median_hh_inc  clf_unemploy_pct  \\\n",
       "0            1.838362   51.176225        53099.0          5.591657   \n",
       "1            3.269510   51.194928        51365.0          6.286843   \n",
       "2            2.859397   46.498084        33956.0         12.824738   \n",
       "3            1.351232   46.464646        39776.0          7.146827   \n",
       "4            4.271801   50.485235        46212.0          5.953833   \n",
       "...               ...         ...            ...               ...   \n",
       "3109         5.509685   47.824244        68233.0          5.072255   \n",
       "3110        11.475048   48.097069        75594.0          2.123447   \n",
       "3111         3.986981   49.327526        53323.0          6.390755   \n",
       "3112         3.783978   51.359119        46212.0          7.441860   \n",
       "3113         4.083624   47.958188        55640.0          3.610949   \n",
       "\n",
       "      lesshs_pct  lesscollege_pct  \n",
       "0      12.417046        75.407229  \n",
       "1       9.972418        70.452889  \n",
       "2      26.235928        87.132213  \n",
       "3      19.301587        88.000000  \n",
       "4      19.968585        86.950243  \n",
       "...          ...              ...  \n",
       "3109    9.314606        78.628507  \n",
       "3110    4.633570        46.211584  \n",
       "3111   10.361224        81.793082  \n",
       "3112   12.577108        78.923920  \n",
       "3113    8.592392        81.193281  \n",
       "\n",
       "[3114 rows x 17 columns]"
      ]
     },
     "metadata": {},
     "execution_count": 56
    }
   ],
   "metadata": {}
  },
  {
   "cell_type": "markdown",
   "source": [
    "### <img src=\"https://img.icons8.com/color/48/000000/code.png\" style=\"height:50px;display:inline\"> Task 1 - Preprocessing\n",
    "---\n",
    "We don't actually care about the counties, and thus we will perform the following preprocessing steps:\n",
    "* For each state, remove counties that has NaN in at least one of their fields (use `df.dropna()`)\n",
    "* For each state, *sum* all the countable fields (votes, total population, cvap...)\n",
    "* For each state, first change percentage fields (*_pct*) to numbers, and then *sum* for each state and finally re-calculate the percentage out of the new total population. Note that the percentage is out of the *total_population*.\n",
    "* For each state, calculate the *weighted median* of the the household median and then calculate the mean (average of medians)\n",
    "    * We want the household median for each state, and in order to that we need to compute the weighted median of each county ($median * \\text{total_population}$) and then the best we can do (as we don't that data available) is calculate the mean.\n",
    "* Add a new column called `trump16_pct`- the precentage of votes Trump got in each state.\n",
    "* You should end up with a `DataFrame` similar to the original (cell above), with the extra column, but with less rows. The name of the new DataFrame should be `prep_df` instead of `df`.\n",
    "\n",
    "**Hints**: `pandas` has great tools for doing all of this. Check out: `df[df['state']=='Alabama']`, `df.uniuqe()`, `df.sum()`, `df.append()`..."
   ],
   "metadata": {}
  },
  {
   "cell_type": "code",
   "execution_count": 57,
   "source": [
    "df_aux = df.copy(deep=True)\n",
    "# first get rid of records with Nan values\n",
    "df_aux.dropna(inplace=True)\n",
    "\n",
    "# calculate the population size of each sub group according to it's percentage (and also the the median)\n",
    "pct_columns = ['white_pct', 'black_pct', 'hispanic_pct', 'nonwhite_pct', 'foreignborn_pct',\n",
    "               'female_pct', 'median_hh_inc', 'clf_unemploy_pct', 'lesshs_pct', 'lesscollege_pct']\n",
    "df_aux[pct_columns] = df_aux[pct_columns].multiply(df['total_population'], axis='index')\n",
    "\n",
    "# claculate the median and all pct columns for each country\n",
    "df_countries = df_aux.groupby(by='state').sum()\n",
    "df_countries[pct_columns] = df_countries[pct_columns].divide(df_countries['total_population'], axis='index')\n",
    "\n",
    "# add percentage of votes for trump\n",
    "df_countries['trump16_pct'] = 100*df_countries['trump16']/df_countries['total_population']\n",
    "\n",
    "\n",
    "\n"
   ],
   "outputs": [],
   "metadata": {
    "scrolled": false
   }
  },
  {
   "cell_type": "code",
   "execution_count": 58,
   "source": [
    "prep_df = df_countries.copy(deep=True)\n",
    "prep_df.head()"
   ],
   "outputs": [
    {
     "output_type": "execute_result",
     "data": {
      "text/html": [
       "<div>\n",
       "<style scoped>\n",
       "    .dataframe tbody tr th:only-of-type {\n",
       "        vertical-align: middle;\n",
       "    }\n",
       "\n",
       "    .dataframe tbody tr th {\n",
       "        vertical-align: top;\n",
       "    }\n",
       "\n",
       "    .dataframe thead th {\n",
       "        text-align: right;\n",
       "    }\n",
       "</style>\n",
       "<table border=\"1\" class=\"dataframe\">\n",
       "  <thead>\n",
       "    <tr style=\"text-align: right;\">\n",
       "      <th></th>\n",
       "      <th>trump16</th>\n",
       "      <th>clinton16</th>\n",
       "      <th>otherpres16</th>\n",
       "      <th>total_population</th>\n",
       "      <th>cvap</th>\n",
       "      <th>white_pct</th>\n",
       "      <th>black_pct</th>\n",
       "      <th>hispanic_pct</th>\n",
       "      <th>nonwhite_pct</th>\n",
       "      <th>foreignborn_pct</th>\n",
       "      <th>female_pct</th>\n",
       "      <th>median_hh_inc</th>\n",
       "      <th>clf_unemploy_pct</th>\n",
       "      <th>lesshs_pct</th>\n",
       "      <th>lesscollege_pct</th>\n",
       "      <th>trump16_pct</th>\n",
       "    </tr>\n",
       "    <tr>\n",
       "      <th>state</th>\n",
       "      <th></th>\n",
       "      <th></th>\n",
       "      <th></th>\n",
       "      <th></th>\n",
       "      <th></th>\n",
       "      <th></th>\n",
       "      <th></th>\n",
       "      <th></th>\n",
       "      <th></th>\n",
       "      <th></th>\n",
       "      <th></th>\n",
       "      <th></th>\n",
       "      <th></th>\n",
       "      <th></th>\n",
       "      <th></th>\n",
       "      <th></th>\n",
       "    </tr>\n",
       "  </thead>\n",
       "  <tbody>\n",
       "    <tr>\n",
       "      <th>Alabama</th>\n",
       "      <td>1318250</td>\n",
       "      <td>729547</td>\n",
       "      <td>75570</td>\n",
       "      <td>4841164.0</td>\n",
       "      <td>3639505.0</td>\n",
       "      <td>66.189350</td>\n",
       "      <td>26.352753</td>\n",
       "      <td>3.997035</td>\n",
       "      <td>33.810650</td>\n",
       "      <td>3.418682</td>\n",
       "      <td>51.536593</td>\n",
       "      <td>45708.307187</td>\n",
       "      <td>8.406750</td>\n",
       "      <td>15.159483</td>\n",
       "      <td>75.860243</td>\n",
       "      <td>27.230022</td>\n",
       "    </tr>\n",
       "    <tr>\n",
       "      <th>Arizona</th>\n",
       "      <td>1252401</td>\n",
       "      <td>1161167</td>\n",
       "      <td>215188</td>\n",
       "      <td>6728577.0</td>\n",
       "      <td>4613575.0</td>\n",
       "      <td>56.146731</td>\n",
       "      <td>4.013404</td>\n",
       "      <td>30.539132</td>\n",
       "      <td>43.853269</td>\n",
       "      <td>13.398791</td>\n",
       "      <td>50.299952</td>\n",
       "      <td>51693.661933</td>\n",
       "      <td>8.163090</td>\n",
       "      <td>13.797477</td>\n",
       "      <td>71.960355</td>\n",
       "      <td>18.613163</td>\n",
       "    </tr>\n",
       "    <tr>\n",
       "      <th>Arkansas</th>\n",
       "      <td>684872</td>\n",
       "      <td>380494</td>\n",
       "      <td>64530</td>\n",
       "      <td>2968472.0</td>\n",
       "      <td>2175330.0</td>\n",
       "      <td>73.367712</td>\n",
       "      <td>15.422817</td>\n",
       "      <td>6.974935</td>\n",
       "      <td>26.632288</td>\n",
       "      <td>4.683689</td>\n",
       "      <td>50.927817</td>\n",
       "      <td>43195.051075</td>\n",
       "      <td>6.969934</td>\n",
       "      <td>14.791668</td>\n",
       "      <td>78.284365</td>\n",
       "      <td>23.071533</td>\n",
       "    </tr>\n",
       "    <tr>\n",
       "      <th>California</th>\n",
       "      <td>4483810</td>\n",
       "      <td>8753788</td>\n",
       "      <td>943997</td>\n",
       "      <td>38654206.0</td>\n",
       "      <td>24582600.0</td>\n",
       "      <td>38.384547</td>\n",
       "      <td>5.583773</td>\n",
       "      <td>38.557206</td>\n",
       "      <td>61.615453</td>\n",
       "      <td>27.002573</td>\n",
       "      <td>50.326311</td>\n",
       "      <td>65366.512280</td>\n",
       "      <td>8.864344</td>\n",
       "      <td>18.093376</td>\n",
       "      <td>68.418055</td>\n",
       "      <td>11.599798</td>\n",
       "    </tr>\n",
       "    <tr>\n",
       "      <th>Colorado</th>\n",
       "      <td>1202484</td>\n",
       "      <td>1338870</td>\n",
       "      <td>238866</td>\n",
       "      <td>5359295.0</td>\n",
       "      <td>3824445.0</td>\n",
       "      <td>68.966664</td>\n",
       "      <td>3.873364</td>\n",
       "      <td>21.127630</td>\n",
       "      <td>31.033336</td>\n",
       "      <td>9.785690</td>\n",
       "      <td>49.813623</td>\n",
       "      <td>63927.379147</td>\n",
       "      <td>6.088813</td>\n",
       "      <td>9.025145</td>\n",
       "      <td>61.354720</td>\n",
       "      <td>22.437354</td>\n",
       "    </tr>\n",
       "  </tbody>\n",
       "</table>\n",
       "</div>"
      ],
      "text/plain": [
       "            trump16  clinton16  otherpres16  total_population        cvap  \\\n",
       "state                                                                       \n",
       "Alabama     1318250     729547        75570         4841164.0   3639505.0   \n",
       "Arizona     1252401    1161167       215188         6728577.0   4613575.0   \n",
       "Arkansas     684872     380494        64530         2968472.0   2175330.0   \n",
       "California  4483810    8753788       943997        38654206.0  24582600.0   \n",
       "Colorado    1202484    1338870       238866         5359295.0   3824445.0   \n",
       "\n",
       "            white_pct  black_pct  hispanic_pct  nonwhite_pct  foreignborn_pct  \\\n",
       "state                                                                           \n",
       "Alabama     66.189350  26.352753      3.997035     33.810650         3.418682   \n",
       "Arizona     56.146731   4.013404     30.539132     43.853269        13.398791   \n",
       "Arkansas    73.367712  15.422817      6.974935     26.632288         4.683689   \n",
       "California  38.384547   5.583773     38.557206     61.615453        27.002573   \n",
       "Colorado    68.966664   3.873364     21.127630     31.033336         9.785690   \n",
       "\n",
       "            female_pct  median_hh_inc  clf_unemploy_pct  lesshs_pct  \\\n",
       "state                                                                 \n",
       "Alabama      51.536593   45708.307187          8.406750   15.159483   \n",
       "Arizona      50.299952   51693.661933          8.163090   13.797477   \n",
       "Arkansas     50.927817   43195.051075          6.969934   14.791668   \n",
       "California   50.326311   65366.512280          8.864344   18.093376   \n",
       "Colorado     49.813623   63927.379147          6.088813    9.025145   \n",
       "\n",
       "            lesscollege_pct  trump16_pct  \n",
       "state                                     \n",
       "Alabama           75.860243    27.230022  \n",
       "Arizona           71.960355    18.613163  \n",
       "Arkansas          78.284365    23.071533  \n",
       "California        68.418055    11.599798  \n",
       "Colorado          61.354720    22.437354  "
      ]
     },
     "metadata": {},
     "execution_count": 58
    }
   ],
   "metadata": {}
  },
  {
   "cell_type": "markdown",
   "source": [
    "### <img src=\"https://img.icons8.com/bubbles/48/000000/ask-question.png\" style=\"height:50px;display:inline\"> Question 1 - Descriptive Statistics\n",
    "---\n",
    "Run the following command (code cell below): `fig = sns.pairplot(data=prep_df[['trump16_pct', 'median_hh_inc', 'lesshs_pct', 'black_pct', 'white_pct']])` and answer:\n",
    "\n",
    "- Explain, in general, what does this plot show.\n",
    "- What are the points on the graphs?\n",
    "- Identify interesting trends.\n",
    "- If the winner of the elections was decided based purely in the number of voters fot each candidate, who would have won the elections in 2016? (Hint: use `prep_df.sum()`)\n",
    "\n",
    "\n",
    "Note: please refrain from expressing personal opinion, we are merely analyzing the data. "
   ],
   "metadata": {}
  },
  {
   "cell_type": "code",
   "execution_count": 59,
   "source": [
    "fig = sns.pairplot(data=prep_df[['trump16_pct', 'median_hh_inc', 'lesshs_pct', 'black_pct', 'white_pct']])"
   ],
   "outputs": [
    {
     "output_type": "display_data",
     "data": {
      "image/png": "[encoded data removed]",
      "text/plain": [
       "<Figure size 900x900 with 30 Axes>"
      ]
     },
     "metadata": {
      "needs_background": "light"
     }
    }
   ],
   "metadata": {}
  },
  {
   "cell_type": "markdown",
   "source": [
    "## 1. The diagonal of the matrix represents the marginal distribution of each feature.\n",
    "## 2. Outside of the diagonal we ha ve a scatter plots, while every plot is x vs y while x and y are different features.\n",
    "## 3. Each data point represents a country\n",
    "## 4. Interesting trends:\n",
    "* positive corrreltation between white percentage and voting for trump\n",
    "* positive corrreltation between black percentage and not having high eduacation\n",
    "* negative corrreltation between white percentage and not having high eduacation"
   ],
   "metadata": {}
  },
  {
   "cell_type": "markdown",
   "source": [
    "## We'll check who would have won if the number of votes is the only thing that matters:"
   ],
   "metadata": {}
  },
  {
   "cell_type": "code",
   "execution_count": 60,
   "source": [
    "prep_df[['trump16', 'clinton16', 'otherpres16']].sum() "
   ],
   "outputs": [
    {
     "output_type": "execute_result",
     "data": {
      "text/plain": [
       "trump16        62790048\n",
       "clinton16      65623848\n",
       "otherpres16     7651472\n",
       "dtype: int64"
      ]
     },
     "metadata": {},
     "execution_count": 60
    }
   ],
   "metadata": {}
  },
  {
   "cell_type": "markdown",
   "source": [
    "## If votes count is the criterion then Clinton would have been the president."
   ],
   "metadata": {}
  },
  {
   "cell_type": "markdown",
   "source": [
    "### <img src=\"https://img.icons8.com/color/48/000000/code.png\" style=\"height:50px;display:inline\"> Task 2 - Point Estimates\n",
    "---\n",
    "As learned in class, point estimates are estimates of population parameters based on sample data. For instance, if we wanted to know the average age of registered voters in the U.S., we could take a survey of registered voters and then use the average age of the respondents as a point estimate of the average age of the population as a whole. The average of a sample is known as the sample mean. The sample mean is usually not exactly the same as the population mean. This difference can be caused by many factors including poor survey design, biased sampling methods and the randomness inherent to drawing a sample from a population\n",
    "\n",
    "In this task, we will go back to the original data, `df` in the code, and we will treat each *county* as one vote and we will try to estimate the **mean** *median income* of voters.\n",
    "\n",
    "* Constant the seed (`np.random.seed(0)`)\n",
    "* Clean the original data by removing counties with NaN (as before, use `df.dropna()`)\n",
    "* Calculate the **true** mean of the *median income* (print it)\n",
    "* Take a random sample of $n=1000$ samples, calculate the sample mean, and calculate the difference from the true mean (print them)\n",
    "* Repeat the process of sampling $n=1000$ (with replacement) $N=10, 20, 40, 50, 100, 200, 500, 1000, 2000$ times, and for each $N$ calculate the mean, calculate the difference from the true mean, plot the difference from the true mean vs. $N$."
   ],
   "metadata": {}
  },
  {
   "cell_type": "code",
   "execution_count": 92,
   "source": [
    "np.random.seed(0)\n",
    "df.dropna(inplace=True)\n",
    "true_mean = df['median_hh_inc'].mean()\n",
    "print(f\"The median of the income: {true_mean:.2f}\")\n",
    "n=1000\n",
    "sampled_mean = df.sample(n=n, replace=False)['median_hh_inc'].mean()\n",
    "print(f\"The difference between the true median and the sampled median for n=1000 with no replacements is: {(true_mean - sampled_mean):.2f}\")\n",
    "\n",
    "N_list = [10, 20, 40, 50, 100, 200, 500, 1000, 2000]\n",
    "mean_diff_list = []\n",
    "for N in N_list:\n",
    "    sampled_mean = 0\n",
    "    for _ in range(N):\n",
    "        sampled_mean += df['median_hh_inc'].sample(n=n, replace=True).mean()\n",
    "    mean_diff_list.append(true_mean - (sampled_mean/N))\n",
    "\n",
    "fig = plt.figure(figsize=(8,5))\n",
    "ax = fig.add_subplot(1,1,1)\n",
    "ax.plot(N_list, np.abs(mean_diff_list))\n",
    "ax.grid()\n",
    "ax.set_xlabel('N')\n",
    "ax.set_ylabel('difference')\n",
    "\n",
    "\n",
    "\n"
   ],
   "outputs": [
    {
     "output_type": "stream",
     "name": "stdout",
     "text": [
      "The median of the income: 47817.64\n",
      "The difference between the true median and the sampled median for n=1000 with no replacements is: 194.77\n"
     ]
    },
    {
     "output_type": "execute_result",
     "data": {
      "text/plain": [
       "Text(0, 0.5, 'difference')"
      ]
     },
     "metadata": {},
     "execution_count": 92
    },
    {
     "output_type": "display_data",
     "data": {
      "image/png": "[encoded data removed]",
      "text/plain": [
       "<Figure size 576x360 with 1 Axes>"
      ]
     },
     "metadata": {
      "needs_background": "light"
     }
    }
   ],
   "metadata": {}
  },
  {
   "cell_type": "markdown",
   "source": [],
   "metadata": {}
  },
  {
   "cell_type": "markdown",
   "source": [
    "### <img src=\"https://img.icons8.com/bubbles/48/000000/ask-question.png\" style=\"height:50px;display:inline\"> Question 2 - Point Estimates\n",
    "---\n",
    "* What is the process of sampling that you just performed? Explain briefly how it works and what is it good for.\n",
    "* What will happen as $n \\to \\infty$? Refer to the Central Limit Theorem (CLT) in you answer."
   ],
   "metadata": {}
  },
  {
   "cell_type": "markdown",
   "source": [
    "## 1. The procees we implemented is bootstrap. in this algo we sample the population N times and for each sample we calculate the estimator and then we can build the ditribution of the estimaor and calculate different quantities of thie estimator like the mean, std, CI and etc.\n",
    "## 2. if $n \\to \\infty$ then according to the CLT the estimator will be distributed N~(mue, sigma/n)\n"
   ],
   "metadata": {}
  },
  {
   "cell_type": "markdown",
   "source": [
    "### <img src=\"https://img.icons8.com/color/48/000000/code.png\" style=\"height:50px;display:inline\"> Task 3 - Confidence Intervals\n",
    "---\n",
    "A point estimate can give you a rough idea of a population parameter like the mean, but estimates are prone to error and taking multiple samples to get improved estimates may not be feasible (would you call 500 people, 2000 times?). A confidence interval is a range of values above and below a point estimate that captures the true population parameter at some predetermined confidence level. For example, if you want to have a 95% chance of capturing the true population parameter with a point estimate and a corresponding confidence interval, you'd set your confidence level to 95%. Higher confidence levels result in a wider confidence intervals.\n",
    "\n",
    "Calculating a confidence interval -  taking a point estimate and then adding and subtracting a margin of error to create a range. Margin of error is based on your desired confidence level, the spread of the data and the size of your sample. The way you calculate the margin of error depends on whether you know the standard deviation of the population or not.\n",
    "\n",
    "* Calculate a 90%, 95% and a 99% confidence interval for the **mean** *median income* of voters. Take a sample of $n=1000$.\n",
    "    * Equivalently, $\\alpha=[0.1, 0.05, 0.01]$\n",
    "    * Don't forget to **standartize** the data. and notice that $\\sigma \\neq 1$ as in the tutorial.\n",
    "    * Use the true STD of the population\n",
    "    * To calculate the inverse of the CDF, use `scipy.stats.norm.ppf()`\n",
    "* Compare your answer to using `scipy.stats.norm.interval(alpha=, loc=, scale=)`. Read the doc, use Shift + Tab (only in Jupyter) inside the parenthesis to understand how to use it.\n",
    "    * You need to print the result for each $\\alpha$, with both methods"
   ],
   "metadata": {}
  },
  {
   "cell_type": "code",
   "execution_count": 114,
   "source": [
    "n = 1000\n",
    "alpha_list = [0.1, 0.05, 0.01] \n",
    "true_std = df['median_hh_inc'].std()\n",
    "sample_mean = df['median_hh_inc'].sample(n=n, replace=True).mean()\n",
    "\n",
    "CI_list = []\n",
    "for alpha in alpha_list:\n",
    "    quantile = scipy.stats.norm.ppf(1-(alpha/2))\n",
    "    margin = quantile*(true_std/np.sqrt(n))\n",
    "    CI_list.append((sample_mean-margin,sample_mean+margin))\n",
    "\n",
    "print(f\"CI:\\nalpha=0.1 : {CI_list[0]}\\nalpha=0.05 : {CI_list[1]}\\nalpha=0.01 : {CI_list[2]}\")\n"
   ],
   "outputs": [
    {
     "output_type": "stream",
     "name": "stdout",
     "text": [
      "CI:\n",
      "alpha=0.1 : (47113.7327468775, 48412.2692531225)\n",
      "alpha=0.05 : (46989.35015862767, 48536.651841372324)\n",
      "alpha=0.01 : (46746.25144559951, 48779.75055440048)\n"
     ]
    }
   ],
   "metadata": {}
  },
  {
   "cell_type": "code",
   "execution_count": 115,
   "source": [
    "scipy.stats.norm.interval(0.90, loc=sample_mean, scale=true_std/np.sqrt(n))"
   ],
   "outputs": [
    {
     "output_type": "execute_result",
     "data": {
      "text/plain": [
       "(47113.7327468775, 48412.2692531225)"
      ]
     },
     "metadata": {},
     "execution_count": 115
    }
   ],
   "metadata": {}
  },
  {
   "cell_type": "code",
   "execution_count": 116,
   "source": [
    "# print CI length\n",
    "for ci in CI_list:\n",
    "    print(ci[1]-ci[0])"
   ],
   "outputs": [
    {
     "output_type": "stream",
     "name": "stdout",
     "text": [
      "1298.536506245\n",
      "1547.3016827446554\n",
      "2033.4991088009701\n"
     ]
    }
   ],
   "metadata": {}
  },
  {
   "cell_type": "markdown",
   "source": [
    "### <img src=\"https://img.icons8.com/bubbles/48/000000/ask-question.png\" style=\"height:50px;display:inline\"> Question 3 - Confidence Intervals\n",
    "---\n",
    "* Explain the results and their meaning.\n",
    "    * What is the trend (the higher the confidence...)?\n",
    "* Why point estimation is not enough?"
   ],
   "metadata": {}
  },
  {
   "cell_type": "markdown",
   "source": [
    "## The meaning of the results: for example, for alpha=0.1, if we sample the population 100 times and  calculate the CI each time, then the real mean will be \n",
    "## inside the ci 90% of the times, 90 times. The smaller alpha is the confidence level is and the length of the confidence inteval is bigger.\n",
    "## Point estimation is not good enough because point estimation is prone to errors and taking multiple samples to get improved estimates may not be feasible."
   ],
   "metadata": {}
  },
  {
   "cell_type": "markdown",
   "source": [
    "### <img src=\"https://img.icons8.com/color/48/000000/code.png\" style=\"height:50px;display:inline\"> Task 4 - Confidence Intervals 2\n",
    "---\n",
    "- Take $N=25$ samples of $n=1000$, and plot the confidence interval for each sample (x axis - sample #, y axis - confidence interval for a confidence level of 95% ($\\alpha=0.05$)\n",
    "    * Use `ax.errorbar(x=list(range(N)), y=sample_mean, yerr=[(upper-lower)/2 for upper,lower in intervals], fmt='o')`\n",
    "    * Add the **true** mean using `ax.hlines((xmin=0, xmax=N, y=true_mean, linewidth=2.0, color=\"red\")`"
   ],
   "metadata": {}
  },
  {
   "cell_type": "code",
   "execution_count": 131,
   "source": [
    "n=1000\n",
    "true_std = df['median_hh_inc'].std()\n",
    "\n",
    "\n",
    "N=25\n",
    "CIs = []\n",
    "sample_mean_list = []\n",
    "for _ in range(N):\n",
    "    sample_mean = df['median_hh_inc'].sample(n=n, replace=True).mean()\n",
    "    CIs.append(scipy.stats.norm.interval(0.95, loc=sample_mean, scale=true_std/np.sqrt(n)))\n",
    "    sample_mean_list.append(sample_mean)\n",
    "\n",
    "fig = plt.figure(figsize=(8,5))\n",
    "ax = fig.add_subplot(1,1,1)\n",
    "ax.errorbar(x=list(range(N)), y=sample_mean_list, yerr=[(upper-lower)/2 for upper,lower in CIs], fmt='o')\n",
    "ax.hlines(xmin=0, xmax=N, y=true_mean, linewidth=2.0, color='red')\n",
    "\n",
    "\n"
   ],
   "outputs": [
    {
     "output_type": "execute_result",
     "data": {
      "text/plain": [
       "<matplotlib.collections.LineCollection at 0x7f75d2371160>"
      ]
     },
     "metadata": {},
     "execution_count": 131
    },
    {
     "output_type": "display_data",
     "data": {
      "image/png": "[encoded data removed]",
      "text/plain": [
       "<Figure size 576x360 with 1 Axes>"
      ]
     },
     "metadata": {
      "needs_background": "light"
     }
    }
   ],
   "metadata": {}
  },
  {
   "cell_type": "markdown",
   "source": [
    "### <img src=\"https://img.icons8.com/bubbles/48/000000/ask-question.png\" style=\"height:50px;display:inline\"> Question 4 - Confidence Intervals 2\n",
    "---\n",
    "- As you have probably noticed, there intervals that **don't include** the true mean. How is that possible?"
   ],
   "metadata": {}
  },
  {
   "cell_type": "markdown",
   "source": [
    "## This is the meaning of the CIs as explained in Q3"
   ],
   "metadata": {}
  },
  {
   "cell_type": "markdown",
   "source": [
    "### <img src=\"https://img.icons8.com/color/48/000000/code.png\" style=\"height:50px;display:inline\"> Task 5 - Hypothesis Testing - Two-Sided One Sample T-Test\n",
    "---\n",
    "Point estimates and confidence intervals are basic inference tools that form the foundation for another inference technique: statistical hypothesis testing. Statistical hypothesis testing is a framework for determining whether observed data deviates from what is expected. The T-test is a statistical test used to determine whether a numeric data sample differs significantly from the population or whether two samples differ from one another.\n",
    "\n",
    "In this exercise we will perform the t-test for the mean of unemployment fraction (`clf_unemploy_pct`) in the US. We will use the pre-procesesd data (`prep_df`) and a sample of size $n=10$. We wish to test whether the sample mean differs from the population mean. The null hypothesis, $H_0$ is that the mean is not different. Recall that we are performng t-tests when we are not given the true mean and true STD. The steps:\n",
    "\n",
    "* Constant the seed\n",
    "* Calculate the true mean of unemployment fraction (use fractions and not percents: `clf_unemploy_pct / 100`)\n",
    "    * In t-test, you assume that the mean ($\\mu$) is unknown, then you formulate the $H_0: \\mu= \\mu_0$. So if $\\mu$ is unknown, how do you calculate the t-statistic? Well, assume that somebody told you that in the last elections, $\\mu = C$, where $C$ is the also the true mean of this election.\n",
    "    * In other words, to calculate t-statistic, use the true mean. \n",
    "* Take a sample of $n=10$ and calculate its mean.\n",
    "* Calculate the sample's unbiased STD.\n",
    "* Calculate the t-statistic value.\n",
    "    * Use the true mean for $\\overline{\\mu} - \\mu_0$\n",
    "* Calculate $t_{n-1, \\frac{\\alpha}{2}}$ for $\\alpha=[0.1, 0.05, 0.01]$ significance levels (how many derees of freedom are there for the t-distribution?). Use `scipy.stats.t.ppf()`.\n",
    "* Calculate the p-value (don't forget that this is a **two-sided** test). For each level, do we reject $H_0$ or accept it?. Use `scipy.stats.t.cdf()`.\n",
    "* Compare your results to `scipy.stats.ttest_1samp()`. This function performs the t-test, and outputs the t-statistic and the p-value.\n",
    "\n",
    "Note: \"Calculate\" = print the results\n",
    "\n",
    "* Tips:\n",
    "    * When calculating the p-value, pay attention to which side are you on (if t-statitic > 0, then you should calculate the p-value for $1-\\phi(x)$)\n",
    "    * Your results should align with the output of `scipy.stats.ttest_1samp()` (make sure the seed is constant)"
   ],
   "metadata": {}
  },
  {
   "cell_type": "code",
   "execution_count": 161,
   "source": [
    "np.random.seed(0)\n",
    "n=10\n",
    "dof = n - 1\n",
    "alpha_list = [0.1, 0.05, 0.01]\n",
    "\n",
    "prep_df['clf_unemploy_frc'] = prep_df['clf_unemploy_pct']/100\n",
    "true_mean = prep_df['clf_unemploy_frc'].mean()\n",
    "sample = prep_df['clf_unemploy_frc'].sample(n=n, replace=True)\n",
    "sample_mean = sample.mean()\n",
    "S = sample.std()\n",
    "\n",
    "# Calculate the statistic:\n",
    "T = np.sqrt(n)*(sample_mean - true_mean)/S\n",
    "\n",
    "# calculate t(1-alpha/2)\n",
    "print(\"The quantiles values for each alpha:\")\n",
    "quantile_list = []\n",
    "for i, alpha in enumerate(alpha_list):\n",
    "    quantile_list.append(scipy.stats.t.ppf(1-(alpha/2), dof))\n",
    "    print(f\"{alpha} : {quantile_list[i]}\")\n",
    "\n",
    "print(\"calculate p-value (hard coded and using scipy):\")\n",
    "# calculate p-value (two sided test):\n",
    "p_value = 2*(1-scipy.stats.t.cdf(T, dof))\n",
    "print(f\"The p-value: {p_value}\" )\n",
    "\n",
    "# We can see that for alpha = 0.01 we cant reject the null hypothesis while for alpha 0.05 and 0.1 we can\n",
    "\n",
    "# now we'll use scipy method for doing the test and compare the results:\n",
    "\n",
    "scipy_T, scipy_p_value = scipy.stats.ttest_1samp(a=sample, popmean=true_mean) \n",
    "print(f\"The T from scipy: {scipy_T}\")\n",
    "print(f\"The p-value from scipy: {scipy_p_value}\")\n",
    "\n",
    "\n",
    "\n",
    "\n",
    "\n"
   ],
   "outputs": [
    {
     "output_type": "stream",
     "name": "stdout",
     "text": [
      "The quantiles values for each alpha:\n",
      "0.1 : 1.8331129326536335\n",
      "0.05 : 2.2621571627409915\n",
      "0.01 : 3.2498355440153697\n",
      "calculate p-value (hard coded and using scipy):\n",
      "The p-value: 0.0247200545457551\n",
      "The T from scipy: 2.6918854843569315\n",
      "The p-value from scipy: 0.024720054545755092\n"
     ]
    }
   ],
   "metadata": {}
  },
  {
   "cell_type": "markdown",
   "source": [
    "### <img src=\"https://img.icons8.com/bubbles/48/000000/ask-question.png\" style=\"height:50px;display:inline\"> Question 5 - Hypothesis Testing - Two-Sided One Sample T-Test\n",
    "---\n",
    "* For a sample of size $n$, what is the number of degrees of freedom for the student-t distribution?\n",
    "* What is the relationship between the significance level and the confidence level? Explain.\n",
    "* What is the meaning of the p-value? What is the meaning of the p-value being lower than some siginificance level?"
   ],
   "metadata": {}
  },
  {
   "cell_type": "markdown",
   "source": [
    "### <img src=\"https://img.icons8.com/cute-clipart/64/000000/wine-glass.png\" style=\"height:50px;display:inline\"> Part 2 - Dimensionality Reduction - Prologue - Wine Dataset\n",
    "---\n",
    "In this exercise we are going to compare different dimensionality reduction techniques on the Wine dataset.\n",
    "The wine dataset is a classic and very easy multi-class classification dataset. There are 3 types of wine, 178 examples with 13 features each. Even though it is a very dataset for classification, we will do unsupervised analysis to compare different aspects of dimensionality reduction methods. Let's look at the data."
   ],
   "metadata": {}
  },
  {
   "cell_type": "code",
   "execution_count": null,
   "source": [
    "# imports for the exrcise - part 2\n",
    "# you can add more if you wish (but it is not really needed)\n",
    "import numpy as np\n",
    "import pandas as pd\n",
    "import matplotlib.pyplot as plt\n",
    "from sklearn.decomposition import PCA, KernelPCA\n",
    "from sklearn.manifold import TSNE, LocallyLinearEmbedding, Isomap\n",
    "from sklearn.preprocessing import StandardScaler\n",
    "from sklearn.datasets import load_wine, load_digits\n",
    "from sklearn.model_selection import train_test_split\n",
    "from sklearn.linear_model import LogisticRegression, Perceptron"
   ],
   "outputs": [],
   "metadata": {}
  },
  {
   "cell_type": "code",
   "execution_count": null,
   "source": [
    "from sklearn.datasets import load_wine\n",
    "X, y = load_wine(return_X_y=True)\n",
    "pd.DataFrame(np.concatenate((X, y.reshape(-1, 1)), axis=1), columns=list(range(13)) + ['class'])"
   ],
   "outputs": [],
   "metadata": {}
  },
  {
   "cell_type": "markdown",
   "source": [
    "### <img src=\"https://img.icons8.com/color/48/000000/code.png\" style=\"height:50px;display:inline\"> Task 6 - Importance of Feature Scaling\n",
    "---\n",
    "* Perform PCA on the data (`X`) to `n_components=2` and plot it.\n",
    "* Scale the data using `StandardSaler()` to create `X_scaled`, perform PCA on `X_scaled` to `n_components=2` and plot it.\n",
    "* Color the datapoints according to their class: `ax.scatter(X[:,0], X[:,1], c=y)`\n",
    "\n",
    "Note: for all algorithms, use constant seed (`random_state=...`), for example: `PCA(n_component=2, random_state=random_state)`"
   ],
   "metadata": {}
  },
  {
   "cell_type": "code",
   "execution_count": null,
   "source": [
    "# your code here - you can use as many cells as you need"
   ],
   "outputs": [],
   "metadata": {}
  },
  {
   "cell_type": "markdown",
   "source": [
    "### <img src=\"https://img.icons8.com/bubbles/48/000000/ask-question.png\" style=\"height:50px;display:inline\"> Question 6 - Importance of Feature Scaling\n",
    "---\n",
    "- Why is it so important to perform feature scaling before performing dimensionality reduction, espicially for PCA?\n",
    "- Describe the results of Task 6"
   ],
   "metadata": {}
  },
  {
   "cell_type": "markdown",
   "source": [
    "### <img src=\"https://img.icons8.com/color/48/000000/code.png\" style=\"height:50px;display:inline\"> Task 7 - T-SNE\n",
    "---\n",
    "* Perform t-SNE on the scaled dataset to `n_components=2` and plot it.\n",
    "    * Find the `perplexity`, the yields the best-looking results."
   ],
   "metadata": {}
  },
  {
   "cell_type": "code",
   "execution_count": null,
   "source": [
    "# your code here - you can use as many cells as you need"
   ],
   "outputs": [],
   "metadata": {}
  },
  {
   "cell_type": "markdown",
   "source": [
    "### <img src=\"https://img.icons8.com/bubbles/48/000000/ask-question.png\" style=\"height:50px;display:inline\"> Question 7 - T-SNE\n",
    "---\n",
    "- Explain in short how t-SNE works and how it is different from PCA.\n",
    "- Compare the results of PCA and t-SNE on the Wine dataset"
   ],
   "metadata": {}
  },
  {
   "cell_type": "markdown",
   "source": [
    "### <img src=\"https://img.icons8.com/color/48/000000/code.png\" style=\"height:50px;display:inline\"> Task 8 - A Short Visit to Supervised Learning\n",
    "---\n",
    "In order to evaluate the quality of our dimensionality reduction, we can, given labels, train a classifier. Though this is the focus of ML course, we will briefly train a linear Perceptron on the lower-dimension dataset (multi-class Perceptron is trained using \"One-vs-All\" scheme, but it is not important).\n",
    "\n",
    "* Split the lower-dimension scaled features to train and test test using `train_test_split`. Use 20% of the data for test.\n",
    "    * Usage: `train_test_split(X_scaled_pca/tsne, y, test_size=0.2, random_state=42)`\n",
    "* Train a Perceptron on the scaled PCA dataset, evaluate the accuracy on the test set (print the results).\n",
    "* Train a Perceptron on the scaled t-SNE dataset, evaluate the accuracy on the test set (print the results)."
   ],
   "metadata": {}
  },
  {
   "cell_type": "code",
   "execution_count": null,
   "source": [
    "# your code here - you can use as many cells as you need"
   ],
   "outputs": [],
   "metadata": {}
  },
  {
   "cell_type": "markdown",
   "source": [
    "### <img src=\"https://img.icons8.com/bubbles/48/000000/ask-question.png\" style=\"height:50px;display:inline\"> Question 8 - A Short Visit to Supervised Learning\n",
    "---\n",
    "- Describe and explain what is Perceptron doing.\n",
    "- Describe the accuracy results. If there is a difference, explain its source."
   ],
   "metadata": {}
  },
  {
   "cell_type": "markdown",
   "source": [
    "### <img src=\"https://img.icons8.com/color/48/000000/code.png\" style=\"height:50px;display:inline\"> Task 9 - Robustness to Noise & Outliers\n",
    "---\n",
    "In this task we are going to test how robust are t-SNE and PCA to noisy features and outliers. We will have 2 new datasets:\n",
    "1. `X_noisy` - random normal noise ($\\mathcal{N}(0,1)$) is added to the current features.\n",
    "2. `X_skewed` - 20 random samples are added to the sample (total samples: 178 + 20 = 198)\n",
    "\n",
    "The tasks:\n",
    "* Perform standardization to create `X_noisy_scaled`, `X_skewed_scaled`\n",
    "* Peform PCA and t-SNE to both datasets (4 in total) to `n_components=2` (as before) and plot the results (4 plots, can be in pairs and can be a 2X2 plot, don't forget to put titles).\n",
    "    * You should tune the `perplexity` for t-SNE\n",
    "* For each of: `X_noisy_scaled_pca`, `X_noisy_scaled_tsne`, `X_skewed_scaled_pca`, `X_skewed_scaled_tsne` train a `LogisticRegression` classifier and measure the accuracy (4 classifiers in total). Don't forget to split to train and test, as before."
   ],
   "metadata": {}
  },
  {
   "cell_type": "code",
   "execution_count": null,
   "source": [
    "# your code here - you can use as many cells as you need"
   ],
   "outputs": [],
   "metadata": {}
  },
  {
   "cell_type": "markdown",
   "source": [
    "### <img src=\"https://img.icons8.com/bubbles/48/000000/ask-question.png\" style=\"height:50px;display:inline\"> Question 9 - Robustness to Noise & Outliers\n",
    "---\n",
    "- Explain the results. In your answer, describe the effect of adding noise and outliers, which algorithm is more affected and why?"
   ],
   "metadata": {}
  },
  {
   "cell_type": "markdown",
   "source": [
    "### <img src=\"https://img.icons8.com/color/48/000000/code.png\" style=\"height:50px;display:inline\"> Task 10 - Comparing Dimensionality Reduction Methods\n",
    "---\n",
    "In this task we will compare different dimensionality reduction techniques on the Digits dataset (Each datapoint is a 8x8 image of a digit). Reduce dimensions to `n_components=2`. Plot all the results. You should tune each algorithm's hyper-parameters. Use the table below:\n",
    "\n",
    "    \n",
    "|Algorithm| Call to...| Hyper-parameters to tune|\n",
    "|---------|-----------|-------------------------|\n",
    "| PCA     | `PCA()`   | None                    |\n",
    "| KernelPCA | `KernelPCA()`   | `kernel`        |\n",
    "| t-SNE     |  `TSNE()`       | `perplexity`    |\n",
    "| Locally Linear Embedding (LLE)|  `LocallyLinearEmbedding()`| `n_neighbors` | \n",
    "| Isomap| Isomap() |`n_neighbors` |\n",
    "\n",
    "* Note, to add a color bar to your plot, use:\n",
    "`scatter = ax.scatter(X_tsne[:,0], X_tsne[:,1], c=y, cmap=plt.cm.rainbow)`\n",
    "`plt.colorbar(scatter)`\n",
    "* Don't forget to add titles"
   ],
   "metadata": {}
  },
  {
   "cell_type": "code",
   "execution_count": null,
   "source": [
    "# your code here - you can use as many cells as you need"
   ],
   "outputs": [],
   "metadata": {}
  },
  {
   "cell_type": "markdown",
   "source": [
    "### <img src=\"https://img.icons8.com/bubbles/48/000000/ask-question.png\" style=\"height:50px;display:inline\"> Question 10 - Comparing Dimensionality Reduction Methods\n",
    "---\n",
    "* Shortly describe what each method from the above table does, and the effect of the hyper-parmeters.\n",
    "* Which method produced the most satisfying results?"
   ],
   "metadata": {}
  },
  {
   "cell_type": "markdown",
   "source": [
    "## <img src=\"https://img.icons8.com/dusk/64/000000/prize.png\" style=\"height:50px;display:inline\"> Credits\n",
    "---\n",
    "* Icons from <a href=\"https://icons8.com/\">Icon8.com</a> - https://icons8.com\n",
    "* Datasets from <a href=\"https://www.kaggle.com/\">Kaggle</a> - https://www.kaggle.com/"
   ],
   "metadata": {}
  }
 ],
 "metadata": {
  "kernelspec": {
   "name": "python3",
   "display_name": "Python 3.8.10 64-bit"
  },
  "language_info": {
   "codemirror_mode": {
    "name": "ipython",
    "version": 3
   },
   "file_extension": ".py",
   "mimetype": "text/x-python",
   "name": "python",
   "nbconvert_exporter": "python",
   "pygments_lexer": "ipython3",
   "version": "3.8.10"
  },
  "interpreter": {
   "hash": "916dbcbb3f70747c44a77c7bcd40155683ae19c65e1c03b4aa3499c5328201f1"
  }
 },
 "nbformat": 4,
 "nbformat_minor": 2
}